{
 "cells": [
  {
   "cell_type": "code",
   "execution_count": 3,
   "metadata": {},
   "outputs": [],
   "source": [
    "import sys\n",
    "sys.path.append('..')\n",
    "import numpy as np\n",
    "import pickle \n",
    "from produce_maps.tcrit import TCRIT, Tcrit_map, data_both_biomes\n",
    "import matplotlib\n",
    "import matplotlib.pyplot as plt\n",
    "from utils import d_sl, years, dense_vegetation, sl_tropics, version, DATA_PATH\n",
    "from sklearn.linear_model import LinearRegression\n",
    "\n",
    "from matplotlib import colors\n",
    "import matplotlib.ticker as mticker\n",
    "import rasterio as rio\n",
    "from scipy.stats import skew\n",
    "from tqdm import tqdm\n",
    "from matplotlib.colors import LinearSegmentedColormap\n",
    "from matplotlib import colormaps\n",
    "from produce_maps.tcrit import data_both_biomes\n",
    "\n",
    "terra = rio.open(DATA_PATH + \"/terraaqua.tif\", 'r').read(1)\n",
    "d_ext = {\"South America\": \"south_america\",  \"Africa\": \"africa\", \"SE Asia\": \"south_east_asia\"}\n",
    "d_ext = {value: key for key, value in d_ext.items()}"
   ]
  },
  {
   "attachments": {},
   "cell_type": "markdown",
   "metadata": {},
   "source": [
    "# TSM 2020 using Tmax"
   ]
  },
  {
   "cell_type": "code",
   "execution_count": 5,
   "metadata": {},
   "outputs": [
    {
     "ename": "FileNotFoundError",
     "evalue": "[Errno 2] No such file or directory: '/home/nina/ecostress/data/outputs/delta_Tmax_Tmodissouth_east_asia_per_year_2001_2020_reversed_v15.npy'",
     "output_type": "error",
     "traceback": [
      "\u001b[31m---------------------------------------------------------------------------\u001b[39m",
      "\u001b[31mFileNotFoundError\u001b[39m                         Traceback (most recent call last)",
      "\u001b[36mCell\u001b[39m\u001b[36m \u001b[39m\u001b[32mIn[5]\u001b[39m\u001b[32m, line 7\u001b[39m\n\u001b[32m      4\u001b[39m ext = key\n\u001b[32m      6\u001b[39m lr_outfile = DATA_PATH + \u001b[33mf\u001b[39m\u001b[33m\"\u001b[39m\u001b[33m/outputs/delta_Tmax_Tmodis\u001b[39m\u001b[38;5;132;01m{\u001b[39;00mext\u001b[38;5;132;01m}\u001b[39;00m\u001b[33m_per_year_2001_2020_reversed\u001b[39m\u001b[38;5;132;01m{\u001b[39;00mversion\u001b[38;5;132;01m}\u001b[39;00m\u001b[33m.npy\u001b[39m\u001b[33m\"\u001b[39m\n\u001b[32m----> \u001b[39m\u001b[32m7\u001b[39m lr_map = - \u001b[43mnp\u001b[49m\u001b[43m.\u001b[49m\u001b[43mload\u001b[49m\u001b[43m(\u001b[49m\u001b[43mlr_outfile\u001b[49m\u001b[43m)\u001b[49m[...,-\u001b[32m1\u001b[39m]\n\u001b[32m      8\u001b[39m lr_map[~data_both_biomes[sl]] = np.nan\n\u001b[32m      9\u001b[39m lr_map[~dense_vegetation[sl]] = np.nan\n",
      "\u001b[36mFile \u001b[39m\u001b[32m~/miniconda3/envs/ecostress/lib/python3.11/site-packages/numpy/lib/npyio.py:427\u001b[39m, in \u001b[36mload\u001b[39m\u001b[34m(file, mmap_mode, allow_pickle, fix_imports, encoding, max_header_size)\u001b[39m\n\u001b[32m    425\u001b[39m     own_fid = \u001b[38;5;28;01mFalse\u001b[39;00m\n\u001b[32m    426\u001b[39m \u001b[38;5;28;01melse\u001b[39;00m:\n\u001b[32m--> \u001b[39m\u001b[32m427\u001b[39m     fid = stack.enter_context(\u001b[38;5;28;43mopen\u001b[39;49m\u001b[43m(\u001b[49m\u001b[43mos_fspath\u001b[49m\u001b[43m(\u001b[49m\u001b[43mfile\u001b[49m\u001b[43m)\u001b[49m\u001b[43m,\u001b[49m\u001b[43m \u001b[49m\u001b[33;43m\"\u001b[39;49m\u001b[33;43mrb\u001b[39;49m\u001b[33;43m\"\u001b[39;49m\u001b[43m)\u001b[49m)\n\u001b[32m    428\u001b[39m     own_fid = \u001b[38;5;28;01mTrue\u001b[39;00m\n\u001b[32m    430\u001b[39m \u001b[38;5;66;03m# Code to distinguish from NumPy binary files and pickles.\u001b[39;00m\n",
      "\u001b[31mFileNotFoundError\u001b[39m: [Errno 2] No such file or directory: '/home/nina/ecostress/data/outputs/delta_Tmax_Tmodissouth_east_asia_per_year_2001_2020_reversed_v15.npy'"
     ]
    }
   ],
   "source": [
    "mask = np.zeros_like(data_both_biomes).astype(float)\n",
    "mask[:,:] = np.nan\n",
    "for key, sl in d_sl.items():\n",
    "    ext = key\n",
    "        \n",
    "    lr_outfile = DATA_PATH + f\"/outputs/delta_Tmax_Tmodis{ext}_per_year_2001_2020_reversed{version}.npy\"\n",
    "    lr_map = - np.load(lr_outfile)[...,-1]\n",
    "    lr_map[~data_both_biomes[sl]] = np.nan\n",
    "    lr_map[~dense_vegetation[sl]] = np.nan\n",
    "    mask[sl] = lr_map\n",
    "final_map =  mask[sl_tropics]\n",
    "\n",
    "\n",
    "\n",
    "def shiftedColorMap(cmap, start=0, midpoint=0.5, stop=1.0, name='shiftedcmap'):\n",
    "    '''\n",
    "    Function to offset the \"center\" of a colormap. Useful for\n",
    "    data with a negative min and positive max and you want the\n",
    "    middle of the colormap's dynamic range to be at zero.\n",
    "\n",
    "    Input\n",
    "    -----\n",
    "      cmap : The matplotlib colormap to be altered\n",
    "      start : Offset from lowest point in the colormap's range.\n",
    "          Defaults to 0.0 (no lower offset). Should be between\n",
    "          0.0 and `midpoint`.\n",
    "      midpoint : The new center of the colormap. Defaults to \n",
    "          0.5 (no shift). Should be between 0.0 and 1.0. In\n",
    "          general, this should be  1 - vmax / (vmax + abs(vmin))\n",
    "          For example if your data range from -15.0 to +5.0 and\n",
    "          you want the center of the colormap at 0.0, `midpoint`\n",
    "          should be set to  1 - 5/(5 + 15)) or 0.75\n",
    "      stop : Offset from highest point in the colormap's range.\n",
    "          Defaults to 1.0 (no upper offset). Should be between\n",
    "          `midpoint` and 1.0.\n",
    "    '''\n",
    "    cdict = {\n",
    "        'red': [],\n",
    "        'green': [],\n",
    "        'blue': [],\n",
    "        'alpha': []\n",
    "    }\n",
    "\n",
    "    # regular index to compute the colors\n",
    "    reg_index = np.linspace(start, stop, 257)\n",
    "\n",
    "    # shifted index to match the data\n",
    "    shift_index = np.hstack([\n",
    "        np.linspace(0.0, midpoint, 128, endpoint=False), \n",
    "        np.linspace(midpoint, 1.0, 129, endpoint=True)\n",
    "    ])\n",
    "\n",
    "    for ri, si in zip(reg_index, shift_index):\n",
    "        r, g, b, a = cmap(ri)\n",
    "\n",
    "        cdict['red'].append((si, r, r))\n",
    "        cdict['green'].append((si, g, g))\n",
    "        cdict['blue'].append((si, b, b))\n",
    "        cdict['alpha'].append((si, a, a))\n",
    "\n",
    "    newcmap = matplotlib.colors.LinearSegmentedColormap(name, cdict)\n",
    "    # plt.register_cmap(cmap=newcmap)\n",
    "\n",
    "    return newcmap\n",
    "\n",
    "\n",
    "def make_fig_(data_species, figsize=(10,5), minn=0, maxx=0,sl=None, interpolation=\"none\", title_fig=None, is_hansen=False, cmap_='brg',save_title=None):\n",
    "    fig = plt.figure(figsize=figsize)\n",
    "    ax = fig.gca()\n",
    "    cmap_terra = colors.ListedColormap(['white', '#D7D7D7FF']) #'grey'])\n",
    "    img = terra[sl].squeeze()\n",
    "    ax.imshow(img, cmap=cmap_terra)\n",
    "    cmap_species = cmap_\n",
    "    # cmap_species.set_under('k', alpha=0)\n",
    "    cmap_species.set_bad(alpha=0)\n",
    "    d = data_species.squeeze().copy()\n",
    "    im = ax.imshow(d, cmap=cmap_species, interpolation=interpolation) # , norm=colors.LogNorm()\n",
    "    min_cbar = int(np.nanmin(d)) \n",
    "    max_species = int(np.nanmax(d))\n",
    "    print(min_cbar, max_species)\n",
    "    min_cbar = minn\n",
    "    max_species = maxx\n",
    "    im.set_clim(min_cbar, max_species)\n",
    "    ax.set_axis_off()\n",
    "    plt.savefig(\"../figures/Appendix/TSM_Tcritmax/tropics_shift_Tcritmax.png\", bbox_inches='tight')\n",
    "        \n",
    "cmap_final = colormaps[\"hot\"] # Reds_r\n",
    "colors_ = [(0, 0, 0), (1, 0, 0), (1, 1, 0), (0, 0.5, 0)]   # Black -> Red -> Yellow -> Green -> White , (1, 1, 0)\n",
    "n_bins = 100  # Discretizes the interpolation into bins\n",
    "cmap_final = LinearSegmentedColormap.from_list('custom_hot', colors_, N=n_bins)\n",
    "minn = -5\n",
    "maxx = 25\n",
    "midpoint=(-minn)/(maxx - minn)\n",
    "cmap_final = shiftedColorMap(cmap_final, midpoint=midpoint, name='shifted')\n",
    "make_fig_(final_map, interpolation='none', sl=sl_tropics, cmap_=cmap_final, minn=minn, maxx=maxx)"
   ]
  },
  {
   "cell_type": "code",
   "execution_count": null,
   "metadata": {},
   "outputs": [
    {
     "name": "stdout",
     "output_type": "stream",
     "text": [
      "7.650692608427045 8.367533683776855\n"
     ]
    }
   ],
   "source": [
    "mask = np.zeros_like(data_both_biomes).astype(float)\n",
    "mask[:,:] = np.nan\n",
    "for key, sl in d_sl.items():\n",
    "    ext = key\n",
    "        \n",
    "    lr_outfile = DATA_PATH + f\"/outputs/delta_Tmin_Tmodis{ext}_per_year_2001_2020_reversed{version}.npy\"\n",
    "    lr_map = - np.load(lr_outfile)[...,-1]\n",
    "    lr_map[~data_both_biomes[sl]] = np.nan\n",
    "    lr_map[~dense_vegetation[sl]] = np.nan\n",
    "    mask[sl] = lr_map\n",
    "final_map_min = mask[sl_tropics]\n",
    "print(np.nanmean(final_map-final_map_min), np.nanmedian(final_map-final_map_min))"
   ]
  },
  {
   "attachments": {},
   "cell_type": "markdown",
   "metadata": {},
   "source": [
    "# Tcrit map"
   ]
  },
  {
   "cell_type": "code",
   "execution_count": null,
   "metadata": {},
   "outputs": [
    {
     "data": {
      "image/png": "[encoded data removed]",
      "text/plain": [
       "<Figure size 1000x500 with 1 Axes>"
      ]
     },
     "metadata": {},
     "output_type": "display_data"
    },
    {
     "data": {
      "image/png": "[encoded data removed]",
      "text/plain": [
       "<Figure size 200x300 with 1 Axes>"
      ]
     },
     "metadata": {},
     "output_type": "display_data"
    }
   ],
   "source": [
    "Tcrit_map = rio.open(DATA_PATH + f\"/outputs/Tcrit_map_min_1981_2010{version}.tif\", 'r').read(1)\n",
    "Tcrit_map[Tcrit_map==1000] = np.nan\n",
    "Tcrit_map[Tcrit_map==0] = np.nan\n",
    "skew_map_tropics = np.load(DATA_PATH + f'/outputs/species_presences_skewness_tropics{version}.npy')\n",
    "Tcrit_map[np.isnan(skew_map_tropics)] = np.nan\n",
    "\n",
    "def make_fig_(data_species, figsize=(10,5), sl=None, interpolation=\"none\", title_fig=None, is_hansen=False, cmap_='brg',save_title=None, min_cbar=1, add_side_plots=False):\n",
    "    min_cbar = np.nanmin(Tcrit_map)\n",
    "    max_species = np.round(np.nanmax(Tcrit_map),2)\n",
    "    min_cbar, max_species = np.round(min_cbar, 1), np.round(max_species, 1)\n",
    "    fig = plt.figure(figsize=figsize)\n",
    "    ax = fig.gca()\n",
    "    ax.set_axis_off()\n",
    "    cmap_terra = colors.ListedColormap(['white', '#D7D7D7FF'])\n",
    "    img = terra[sl].squeeze()\n",
    "    ax.imshow(img, cmap=cmap_terra)\n",
    "    cmap_species = cmap_\n",
    "    cmap_species.set_under('k', alpha=0)\n",
    "    cmap_species.set_bad(alpha=0)\n",
    "    d = data_species[sl].squeeze().copy()\n",
    "    if is_hansen:\n",
    "        d[dense_vegetation[sl].squeeze() == 0] = 0\n",
    "    im = ax.imshow(d, cmap=cmap_species, interpolation=interpolation)\n",
    "    im.set_clim(min_cbar, max_species)\n",
    "    plt.savefig(\"../figures/Appendix/Tcrits/tropics.png\", bbox_inches='tight')\n",
    "    \n",
    "    fig2 = plt.figure(figsize=(2, 3))\n",
    "    ax2 = fig2.gca()\n",
    "    cmap_species = cmap_\n",
    "    im2 = ax2.imshow(data_species.squeeze(), cmap=cmap_species, interpolation=interpolation)\n",
    "    im2.set_clim(min_cbar, max_species)\n",
    "    im2.set_visible(False)\n",
    "    cbar2 = fig2.colorbar(im2,\n",
    "                        ticks=[min_cbar, max_species],\n",
    "                        format=mticker.FixedFormatter([f'{min_cbar} °C', f'{max_species} °C']),\n",
    "                        extend='neither'\n",
    "                        )\n",
    "    ax2.remove()\n",
    "    cbar2.ax.set_ylabel('Tcrit', rotation=90, labelpad=-55, va='bottom')\n",
    "    plt.savefig(\"../figures/Appendix/Tcrits/cbar.png\", bbox_inches='tight')\n",
    "Tcrit_map[~data_both_biomes] = np.nan\n",
    "Tcrit_map[dense_vegetation == 0] = np.nan\n",
    "from matplotlib.colors import LinearSegmentedColormap\n",
    "cmap = LinearSegmentedColormap.from_list(\"custom_cmap\", [\"yellow\", \"red\"])\n",
    "make_fig_(Tcrit_map, interpolation='none', sl=sl_tropics, cmap_=cmap)\n"
   ]
  },
  {
   "cell_type": "code",
   "execution_count": 5,
   "metadata": {},
   "outputs": [
    {
     "name": "stdout",
     "output_type": "stream",
     "text": [
      "south_east_asia 39.86268765654865 8.488040788481285\n",
      "south_america 38.41425681241784 10.898615785814723\n",
      "africa 31.8901480765833 19.102912873378557\n",
      "37.473689376067725 12.738208041472358\n"
     ]
    }
   ],
   "source": [
    "for key, sl in d_sl.items():\n",
    "    tmap = Tcrit_map[sl]\n",
    "    print(key, np.nanmean(tmap), np.nanstd(tmap))\n",
    "print(np.nanmean(Tcrit_map), np.nanstd(Tcrit_map))"
   ]
  },
  {
   "attachments": {},
   "cell_type": "markdown",
   "metadata": {},
   "source": [
    "# Boxplots Tcrits"
   ]
  },
  {
   "attachments": {},
   "cell_type": "markdown",
   "metadata": {},
   "source": [
    "# Same code than to produce the Tcrit dataset"
   ]
  },
  {
   "cell_type": "code",
   "execution_count": null,
   "metadata": {},
   "outputs": [
    {
     "name": "stdout",
     "output_type": "stream",
     "text": [
      "Lancaster 64\n",
      "Sullivan 66\n",
      "Middleby 2\n",
      "Tarvainen 1\n",
      "Perez 50\n",
      "bison 41\n",
      "Feeley 71\n",
      "Slot 106\n",
      "610 256\n",
      "256\n",
      "Total 256\n"
     ]
    },
    {
     "name": "stderr",
     "output_type": "stream",
     "text": [
      "/tmp/ipykernel_715782/2864943939.py:26: FutureWarning: ChainedAssignmentError: behaviour will change in pandas 3.0!\n",
      "You are setting values through chained assignment. Currently this works in certain cases, but when using Copy-on-Write (which will become the default behaviour in pandas 3.0) this will never work to update the original DataFrame or Series, because the intermediate object on which we are setting values will behave as a copy.\n",
      "A typical example is when you are setting values in a column of a DataFrame, like:\n",
      "\n",
      "df[\"col\"][row_indexer] = value\n",
      "\n",
      "Use `df.loc[row_indexer, \"col\"] = values` instead, to perform the assignment in a single step and ensure this keeps updating the original `df`.\n",
      "\n",
      "See the caveats in the documentation: https://pandas.pydata.org/pandas-docs/stable/user_guide/indexing.html#returning-a-view-versus-a-copy\n",
      "\n",
      "  df_lancaster['Tolerance measure'][(df_lancaster['Tolerance measure']=='T50')] = 'Tcrit'\n"
     ]
    }
   ],
   "source": [
    "import pandas as pd\n",
    "from os.path import exists \n",
    "import shutil\n",
    "import rasterio as rio\n",
    "from rasterio.merge import merge\n",
    "from glob import glob\n",
    "from tqdm import tqdm\n",
    "import numpy as np\n",
    "from openpyxl import load_workbook\n",
    "\n",
    "# T50: some of Lancaster and Feeley. Slot and Perez can also be used with T50.\n",
    "\n",
    "# Create a function to check strikethrough for a specific cell\n",
    "def is_strikethrough(cell):\n",
    "    if cell.font and cell.font.strike:\n",
    "        return True\n",
    "    return False\n",
    "\n",
    "\n",
    "\n",
    "list_sdms_available = pd.read_csv(DATA_PATH + '/data_species/list_species.csv')['species'].tolist()\n",
    "merged_df = pd.DataFrame.from_dict({'Plant species clean': [], 'Thermal Tolerance_deg.C': []})\n",
    "\n",
    "df_lancaster = pd.read_excel(DATA_PATH + '/data_species/pnas.1918162117.sd01.xlsx')\n",
    "df_lancaster = df_lancaster[df_lancaster['Tmin or Tmax'] == 'Tmax']\n",
    "df_lancaster['Tolerance measure'][(df_lancaster['Tolerance measure']=='T50')] = 'Tcrit'\n",
    "df_lancaster = df_lancaster[(df_lancaster['Tolerance measure'] =='Tcrit')] # que 16 especes.\n",
    "species = set([i for i in df_lancaster['Plant species clean']])\n",
    "list_nature = df_lancaster['Plant species clean'].tolist()\n",
    "common_list = set(list_nature).intersection(list_sdms_available)\n",
    "print(\"Lancaster\", len(common_list))\n",
    "df_lancaster = df_lancaster[df_lancaster['Plant species clean'].isin(common_list)]\n",
    "# merged_df = pd.concat([merged_df, df_lancaster])\n",
    "\n",
    "df_sullivan = pd.read_excel(DATA_PATH + '/data_species/gcb13477-sup-0002-tables7.xlsx')\n",
    "df_sullivan = df_sullivan.rename(columns={'Species': 'Plant species clean', 'Tcrit': 'Thermal Tolerance_deg.C'})\n",
    "df_sullivan['Plant species clean'] = [i.replace(' ', '_').replace('#', '').replace('*', '') for i in df_sullivan['Plant species clean']]\n",
    "df_sullivan = df_sullivan[['Plant species clean', \"Thermal Tolerance_deg.C\" ]]\n",
    "df_sullivan['Tmin or Tmax'] = 'Tmax'\n",
    "df_sullivan = df_sullivan[~df_sullivan[\"Thermal Tolerance_deg.C\"].isna()]\n",
    "df_sullivan = df_sullivan[df_sullivan[\"Thermal Tolerance_deg.C\"] <= 55]\n",
    "unique_sull = np.unique(df_sullivan['Plant species clean'])\n",
    "species_sullivan = set([i for i in df_sullivan['Plant species clean']])\n",
    "common_list2 = species_sullivan.intersection(list_sdms_available)\n",
    "n_sullivan_species = len(common_list2)\n",
    "print(\"Sullivan\", len(common_list2))\n",
    "df_sullivan = df_sullivan[df_sullivan['Plant species clean'].isin(common_list2)]\n",
    "merged_df = pd.concat([merged_df, df_sullivan])\n",
    "\n",
    "df_Middleby = pd.DataFrame.from_dict({'Plant species clean': [\"Terminalia_microcarpa\", \"Castanospermum_australe\", \"Castanospermum_australe\"], 'Thermal Tolerance_deg.C': [47.7, 46.6, 49.6]})\n",
    "df_Middleby['Tmin or Tmax'] = 'Tmax'\n",
    "species_Middleby = set([i for i in df_Middleby['Plant species clean']])\n",
    "common_list = species_Middleby.intersection(list_sdms_available)\n",
    "print(\"Middleby\", len(common_list))\n",
    "df_Middleby = df_Middleby[df_Middleby['Plant species clean'].isin(common_list)]\n",
    "# merged_df = pd.concat([merged_df, df_Middleby])\n",
    "# from: https://www.authorea.com/users/802804/articles/1187938-ecotypic-variation-in-leaf-thermoregulation-and-heat-tolerance-but-not-thermal-safety-margins-in-tropical-trees\n",
    "\n",
    "\n",
    "df_Tarvainen = pd.DataFrame.from_dict({'Plant species clean': [\"Harungana_montana\", \"Syzygium_guineense\", \"Entandrophragma_exselsum\"], 'Thermal Tolerance_deg.C': [40, 40, 40]})\n",
    "df_Tarvainen['Tmin or Tmax'] = 'Tmax'\n",
    "species_Tarvainen = set([i for i in df_Tarvainen['Plant species clean']])\n",
    "common_list = species_Tarvainen.intersection(list_sdms_available)\n",
    "print(\"Tarvainen\", len(common_list))\n",
    "df_Tarvainen = df_Tarvainen[df_Tarvainen['Plant species clean'].isin(common_list)]\n",
    "# merged_df = pd.concat([merged_df, df_Tarvainen])\n",
    "\n",
    "# Perez & Feeley: https://onlinelibrary.wiley.com/doi/full/10.1111/jbi.13984\n",
    "df_perez = pd.read_csv(DATA_PATH + \"/data_species/Perez.and.Feeley.2020.csv\")\n",
    "df_perez = df_perez.rename(columns={'species': 'Plant species clean', 'Tcrit': 'Thermal Tolerance_deg.C'}) #T50 instead of Tcrit\n",
    "df_perez['Plant species clean'] = [i.replace(' ', '_') for i in df_perez['Plant species clean']]\n",
    "df_perez['Tmin or Tmax'] = 'Tmax'\n",
    "species_perez = set([i for i in df_perez['Plant species clean']])\n",
    "common_list = species_perez.intersection(list_sdms_available)\n",
    "print(\"Perez\", len(common_list))\n",
    "n_perez_species = len(common_list)\n",
    "df_perez = df_perez[df_perez['Plant species clean'].isin(common_list)]\n",
    "merged_df = pd.concat([merged_df, df_perez])\n",
    "\n",
    "# https://nph.onlinelibrary.wiley.com/doi/full/10.1111/nph.19702\n",
    "df_bison = pd.read_csv(\"/data/gaston/ecostress/ecostress/data_species/Bison.csv\")\n",
    "df_bison = df_bison.rename(columns={'name': 'Plant species clean', 'Tcrit': 'Thermal Tolerance_deg.C'})\n",
    "unique_bison = np.unique(df_bison['Plant species clean'])\n",
    "species_bison = set([i for i in df_bison['Plant species clean']])\n",
    "nspecies_bison = len(species_bison)\n",
    "common_list = species_bison.intersection(list_sdms_available)\n",
    "print(\"bison\", len(common_list))\n",
    "n_bison_species = len(common_list)\n",
    "df_bison = df_bison[df_bison['Plant species clean'].isin(common_list)]\n",
    "merged_df = pd.concat([merged_df, df_bison])\n",
    "\n",
    "file_path = '/data/gaston/ecostress/ecostress/data_species/Table_1_Feeley.xlsx'\n",
    "df_feeley = pd.read_excel(file_path, skiprows=2)\n",
    "# Load the workbook with openpyxl\n",
    "wb = load_workbook(file_path)\n",
    "sheet = wb.active  # Get the active sheet (or use sheet names)\n",
    "for row in sheet.iter_rows(min_row=4, max_row=sheet.max_row, min_col=1, max_col=sheet.max_column):\n",
    "    for cell in row:\n",
    "        if is_strikethrough(cell):\n",
    "            df_feeley.iloc[cell.row - 4, cell.column - 1] = f\"Strikethrough\"\n",
    "df_feeley = df_feeley[df_feeley['T50 (95% CI)'] != 'Strikethrough']\n",
    "df_feeley = df_feeley[~df_feeley['Species'].isnull()]\n",
    "df_feeley['T50 (95% CI)'] = [float(i.split(' ')[0]) for i in df_feeley['T50 (95% CI)']]\n",
    "df_feeley = df_feeley.rename(columns={'Species': 'Plant species clean', 'T50 (95% CI)': 'Thermal Tolerance_deg.C'})\n",
    "df_feeley['Plant species clean'] = [i.replace(' ', '_') for i in df_feeley['Plant species clean']]\n",
    "df_feeley['Tmin or Tmax'] = 'Tmax'\n",
    "species_feeley = set([i for i in df_feeley['Plant species clean']])\n",
    "common_list = species_feeley.intersection(list_sdms_available)\n",
    "print(\"Feeley\", len(common_list))\n",
    "n_feeley_species = len(common_list)\n",
    "df_feeley = df_feeley[df_feeley['Plant species clean'].isin(common_list)]\n",
    "# merged_df = pd.concat([merged_df, df_feeley])\n",
    "\n",
    "df_slot = pd.read_excel('/data/gaston/ecostress/ecostress/data_species/Tcrit_147 tropical_forest_species.xlsx')\n",
    "df_slot = df_slot.rename(columns={'Species': 'Plant species clean', 'Tcrit': 'Thermal Tolerance_deg.C'})\n",
    "df_slot['Tmin or Tmax'] = 'Tmax'\n",
    "df_slot['Plant species clean'] = [i.replace(' ', '_').replace('#', '').replace('*', '') for i in df_slot['Plant species clean']]\n",
    "unique_slot = np.unique(df_slot['Plant species clean'])\n",
    "species_slot = set([i for i in df_slot['Plant species clean']])\n",
    "common_list = species_slot.intersection(list_sdms_available)\n",
    "print(\"Slot\", len(common_list))\n",
    "n_slot_species = len(common_list)\n",
    "df_slot = df_slot[df_slot['Plant species clean'].isin(common_list)]\n",
    "merged_df = pd.concat([merged_df, df_slot])\n",
    "\n",
    "merged_df = merged_df[merged_df[\"Thermal Tolerance_deg.C\"] <= 55]\n",
    "\n",
    "species_total = set([i for i in merged_df['Plant species clean']])\n",
    "tot_number = len(species_total.intersection(list_sdms_available))\n",
    "print(len(species_slot)+len(species_bison)+len(species_perez)+len(species_sullivan), tot_number)\n",
    "print(len(species_total))\n",
    "print(\"Total\", len(set([i for i in merged_df['Plant species clean']])))"
   ]
  },
  {
   "cell_type": "code",
   "execution_count": 6,
   "metadata": {},
   "outputs": [
    {
     "name": "stdout",
     "output_type": "stream",
     "text": [
      "max 50.4 54.9583636836448 48.58 50.846 54.9583636836448\n",
      "mean 46.901785714285715 46.31690154844035 42.617399999999996 46.41573170731707 45.89413226516785\n",
      "min 42.0 37.41881760486856 31.05 42.606 31.05\n",
      "std 1.753719625684278 3.6538256981466657 2.8133636878299253 1.915791335248742 3.0258093706504163\n",
      "median 46.8 46.115428392115945 42.225 46.374 46.061\n"
     ]
    },
    {
     "data": {
      "image/png": "[encoded data removed]",
      "text/plain": [
       "<Figure size 900x600 with 1 Axes>"
      ]
     },
     "metadata": {},
     "output_type": "display_data"
    }
   ],
   "source": [
    "\n",
    "fig, ax = plt.subplots(figsize=(6, 4), dpi=150)\n",
    "\n",
    "# , df_sullivan[\"Thermal Tolerance_deg.C\"], df_lancaster[\"Thermal Tolerance_deg.C\"]\n",
    "total = np.concatenate([df_slot[\"Thermal Tolerance_deg.C\"], df_sullivan[\"Thermal Tolerance_deg.C\"], df_perez[\"Thermal Tolerance_deg.C\"], df_bison[\"Thermal Tolerance_deg.C\"]])\n",
    "print(\"max\", np.max(df_slot[\"Thermal Tolerance_deg.C\"]), np.max(df_sullivan[\"Thermal Tolerance_deg.C\"]), np.max(df_perez[\"Thermal Tolerance_deg.C\"]), np.max(df_bison[\"Thermal Tolerance_deg.C\"]), np.max(total))\n",
    "print(\"mean\", np.mean(df_slot[\"Thermal Tolerance_deg.C\"]), np.mean(df_sullivan[\"Thermal Tolerance_deg.C\"]), np.mean(df_perez[\"Thermal Tolerance_deg.C\"]), np.mean(df_bison[\"Thermal Tolerance_deg.C\"]), np.mean(total))\n",
    "print(\"min\", np.min(df_slot[\"Thermal Tolerance_deg.C\"]), np.min(df_sullivan[\"Thermal Tolerance_deg.C\"]), np.min(df_perez[\"Thermal Tolerance_deg.C\"]), np.min(df_bison[\"Thermal Tolerance_deg.C\"]), np.min(total))\n",
    "print(\"std\", np.std(df_slot[\"Thermal Tolerance_deg.C\"]), np.std(df_sullivan[\"Thermal Tolerance_deg.C\"]), np.std(df_perez[\"Thermal Tolerance_deg.C\"]), np.std(df_bison[\"Thermal Tolerance_deg.C\"]), np.std(total))\n",
    "print(\"median\", np.median(df_slot[\"Thermal Tolerance_deg.C\"]), np.median(df_sullivan[\"Thermal Tolerance_deg.C\"]), np.median(df_perez[\"Thermal Tolerance_deg.C\"]), np.median(df_bison[\"Thermal Tolerance_deg.C\"]), np.median(total))\n",
    "ax.boxplot([df_slot[\"Thermal Tolerance_deg.C\"], df_sullivan[\"Thermal Tolerance_deg.C\"], df_perez[\"Thermal Tolerance_deg.C\"], df_bison[\"Thermal Tolerance_deg.C\"], merged_df[\"Thermal Tolerance_deg.C\"]], patch_artist=True, notch=True, \n",
    "           boxprops=dict(facecolor='lightblue', color='blue'),\n",
    "           medianprops=dict(color='red', linewidth=2),\n",
    "           whiskerprops=dict(color='black', linewidth=1.5),\n",
    "           capprops=dict(color='black', linewidth=1.5),\n",
    "           flierprops=dict(marker='o', markerfacecolor='green', markersize=8, linestyle='none'),\n",
    "        #    showfliers=False\n",
    "           )\n",
    "\n",
    "ax.set_xticklabels([f'Slot ({n_slot_species})', f'Sullivan ({n_sullivan_species})', f'Perez ({n_perez_species})', f'Bison ({n_bison_species})', f\"Total ({tot_number})\"])\n",
    "ax.set_ylabel('Temperature thresholds (°C)')\n",
    "\n",
    "plt.grid(alpha=0.4)\n",
    "plt.savefig(\"../figures/Appendix/tcrit_distribution.png\", bbox_inches='tight')"
   ]
  }
 ],
 "metadata": {
  "kernelspec": {
   "display_name": "ecostress",
   "language": "python",
   "name": "python3"
  },
  "language_info": {
   "codemirror_mode": {
    "name": "ipython",
    "version": 3
   },
   "file_extension": ".py",
   "mimetype": "text/x-python",
   "name": "python",
   "nbconvert_exporter": "python",
   "pygments_lexer": "ipython3",
   "version": "3.11.11"
  },
  "orig_nbformat": 4
 },
 "nbformat": 4,
 "nbformat_minor": 2
}
