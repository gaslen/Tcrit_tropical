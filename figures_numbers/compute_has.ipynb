{
 "cells": [
  {
   "attachments": {},
   "cell_type": "markdown",
   "metadata": {},
   "source": [
    "1. Nombre total d'hectares en 2001 et en 2020 dans tous les tropiques (et pourcentage que ca représente)\n",
    "2. Pareil mais par sl (roi)\n",
    "3. Pareil par roi mais en 2050 et 2100\n"
   ]
  },
  {
   "cell_type": "code",
   "execution_count": 2,
   "metadata": {},
   "outputs": [],
   "source": [
    "import pandas as pd \n",
    "import numpy as np \n",
    "import sys\n",
    "sys.path.append('..')\n",
    "from utils import d_sl, years, dense_vegetation, sl_tropics, version, compute_area_hectares, DATA_PATH\n",
    "from produce_maps.tcrit import TCRIT, Tcrit_map, data_both_biomes\n",
    "import rasterio as rio \n",
    "\n",
    "file_species = DATA_PATH + f'/outputs/species_above_threshold_1981_2010{version}.tif'\n",
    "rio_species = rio.open(file_species, 'r')\n",
    "data_allspecies = rio_species.read(1)\n",
    "data_allspecies[dense_vegetation == 0] = 0\n",
    "data_allspecies[~data_both_biomes] = 0\n",
    "d_ext = {\"South America\": \"south_america\",  \"Africa\": \"africa\", \"SE Asia\": \"south_east_asia\"}\n",
    "d_ext = {value: key for key, value in d_ext.items()}"
   ]
  },
  {
   "cell_type": "code",
   "execution_count": 2,
   "metadata": {},
   "outputs": [
    {
     "name": "stdout",
     "output_type": "stream",
     "text": [
      "south_east_asia 27.158382795639923 435.69943244637034 6.233283950624107\n",
      "south_america 138.10930424777985 773.1337376042538 17.86357230713352\n",
      "africa 8.895827595225741 182.49401550897488 4.874585925689303\n",
      "total 174.16351463864552 1391.3271855595992 12.51779713975732\n"
     ]
    }
   ],
   "source": [
    "# 2020\n",
    "total = 0\n",
    "total_above = 0\n",
    "d_above_2020 = {}\n",
    "for key, sl in list(d_sl.items()):\n",
    "    ext = key\n",
    "    color = 'tab:red' #d_color[key]\n",
    "    count_species = data_allspecies[sl]\n",
    "    outfile = f\"/data/gaston/ecostress/ecostress/outputs/delta_Tmin_Tmodis{ext}_per_year_2001_2020_reversed{version}.npy\"\n",
    "    map = np.load(outfile)\n",
    "    map = map.astype(float)[..., -1] # 2020\n",
    "    map[~data_both_biomes[sl]] = np.nan\n",
    "    above = compute_area_hectares(map > 0, d_sl[key])\n",
    "    tot = compute_area_hectares(~np.isnan(map), d_sl[key])\n",
    "    total += tot \n",
    "    total_above += above\n",
    "    print(key, above/1000000, tot/1000000, (above/tot)*100)\n",
    "    d_above_2020[key] = above/1000000\n",
    "    \n",
    "print(\"total\", total_above/1000000, total/1000000, (total_above/total)*100)\n",
    "\n",
    "\n",
    "# south_east_asia 27.11138761965745 435.3275798456408 6.227813002169689\n",
    "# south_america 138.11514600718036 773.1341649591459 17.864318027451116\n",
    "# africa 8.895827595225741 182.49401550897488 4.874585925689303\n",
    "# total 174.12236122206357 1390.9557603137614 12.518181108994176"
   ]
  },
  {
   "cell_type": "code",
   "execution_count": 3,
   "metadata": {},
   "outputs": [
    {
     "name": "stdout",
     "output_type": "stream",
     "text": [
      "south_east_asia 22.31092339118828 435.69943244637034 5.120714357123819\n",
      "south_america 105.76848512800042 773.1337376042538 13.680490189931465\n",
      "africa 10.222198980402956 182.49401550897488 5.601388600000551\n",
      "total 138.30160749959165 1391.3271855595992 9.940264873352993\n"
     ]
    }
   ],
   "source": [
    "# 2001\n",
    "total = 0\n",
    "total_above = 0\n",
    "for key, sl in list(d_sl.items()):\n",
    "    ext = key\n",
    "    color = 'tab:red' #d_color[key]\n",
    "    count_species = data_allspecies[sl]\n",
    "    outfile = DATA_PATH + f\"/outputs/delta_Tmin_Tmodis{ext}_per_year_2001_2020_reversed{version}.npy\"\n",
    "    map = np.load(outfile)\n",
    "    map = map.astype(float)[..., 0] # 2001\n",
    "    map[~data_both_biomes[sl]] = np.nan\n",
    "    above = compute_area_hectares(map > 0, d_sl[key])\n",
    "    tot = compute_area_hectares(~np.isnan(map), d_sl[key])\n",
    "    total += tot \n",
    "    total_above += above\n",
    "    print(key, above/1000000, tot/1000000, (above/tot)*100)\n",
    "print(\"total\", total_above/1000000, total/1000000, (total_above/total)*100)\n",
    "\n",
    "# south_east_asia 22.252639609697297 435.3275798456408 5.111699933550655\n",
    "# south_america 105.77935991453428 773.1341649591459 13.681889212608253\n",
    "# africa 10.222198980402956 182.49401550897488 5.601388600000551\n",
    "# total 138.25419850463453 1390.9557603137614 9.939510834869987"
   ]
  },
  {
   "cell_type": "code",
   "execution_count": 4,
   "metadata": {},
   "outputs": [
    {
     "name": "stdout",
     "output_type": "stream",
     "text": [
      "south_east_asia 36.0995490913424 435.6991774744847 8.28542970877113\n",
      "south_america 168.37005517352952 773.1324058325209 21.777648162636005\n",
      "africa 11.299990420133764 182.49401550897488 6.191978618377237\n",
      "total 215.76959468500573 1391.3255988159804 15.50820274338558\n"
     ]
    }
   ],
   "source": [
    "# fixed distribution 2050\n",
    "ssp = '2041_2070_ssp370'\n",
    "total = 0\n",
    "total_above = 0\n",
    "d_above_2050 = {}\n",
    "for key, sl in list(d_sl.items()):\n",
    "    ext = key\n",
    "    sl = d_sl[key]\n",
    "    \n",
    "    y = '2050'\n",
    "    filename_delta = DATA_PATH + f\"/2050-2100_temperatures/delta_tsurf_2020_{y}.tif\"\n",
    "    delta_tsurf = rio.open(filename_delta, 'r').read(1)[sl]\n",
    "    delta_tsurf[delta_tsurf==-20] = np.nan\n",
    "    delta_tsurf[~data_both_biomes[sl]] = np.nan\n",
    "\n",
    "\n",
    "    outfile = DATA_PATH + f\"/outputs/delta_Tmin_Tmodis{ext}_per_year_2001_2020_reversed{version}.npy\"\n",
    "    # nan_map = np.isnan(np.load(outfile).astype(float)[..., 0])\n",
    "    map = np.load(outfile)\n",
    "    map = map.astype(float)[..., -1] # 2020\n",
    "    map[~data_both_biomes[sl]] = np.nan\n",
    "    map = map + delta_tsurf\n",
    "    values = - map\n",
    "    # values = np.load(f\"/media/data/gaston/ecostress/outputs/LinearRegression_delta_Tmin_Tmodis{ext}_2050_tminv6_{ssp}.npy\")\n",
    "    # values = values - delta_tsurf\n",
    "    # values[nan_map] = np.nan\n",
    "    # values = values.flatten()\n",
    "    # values = values[~np.isnan(values)]\n",
    "    above = compute_area_hectares(values < 0, d_sl[key])\n",
    "    tot = compute_area_hectares(~np.isnan(values), d_sl[key])\n",
    "    total += tot \n",
    "    total_above += above\n",
    "    print(key, above/1000000, tot/1000000, (above/tot)*100)\n",
    "    d_above_2050[key] = above/1000000\n",
    "print(\"total\", total_above/1000000, total/1000000, (total_above/total)*100)\n",
    "\n",
    "# south_east_asia 36.02915349791185 435.3273248737554 8.276336319655623\n",
    "# south_america 168.37814709445456 773.1328331874156 21.778682765324742\n",
    "# africa 11.299990420133764 182.49401550897488 6.191978618377237\n",
    "# total 215.70729101250018 1390.954173570146 15.50786468103739"
   ]
  },
  {
   "cell_type": "code",
   "execution_count": 5,
   "metadata": {},
   "outputs": [
    {
     "name": "stdout",
     "output_type": "stream",
     "text": [
      "Taking acclimation into account\n",
      "south_east_asia 32.41032414773805 435.6991774744847 7.438692984366732\n",
      "south_america 156.0900352001232 773.1324058325209 20.189301861179008\n",
      "africa 10.338918335156082 182.49401550897488 5.66534650811474\n",
      "total 198.83927768301731 1391.3255988159804 14.291354795184516\n"
     ]
    }
   ],
   "source": [
    "# fixed distribution 2050\n",
    "ssp = '2041_2070_ssp370'\n",
    "total = 0\n",
    "total_above = 0\n",
    "d_above_2050_accl = {}\n",
    "print(\"Taking acclimation into account\")\n",
    "for key, sl in list(d_sl.items()):\n",
    "    ext = key\n",
    "    sl = d_sl[key]\n",
    "    \n",
    "    y = '2050'\n",
    "    filename_delta = DATA_PATH + f\"/2050-2100_temperatures/delta_tsurf_2020_{y}.tif\"\n",
    "    delta_tsurf = rio.open(filename_delta, 'r').read(1)[sl]\n",
    "    delta_tsurf[delta_tsurf==-20] = np.nan\n",
    "    delta_tsurf[~data_both_biomes[sl]] = np.nan\n",
    "\n",
    "\n",
    "    outfile = DATA_PATH + f\"/outputs/delta_Tmin_Tmodis{ext}_per_year_2001_2020_reversed{version}.npy\"\n",
    "    # nan_map = np.isnan(np.load(outfile).astype(float)[..., 0])\n",
    "    map = np.load(outfile)\n",
    "    map = map.astype(float)[..., -1] # 2020\n",
    "    map[~data_both_biomes[sl]] = np.nan\n",
    "    map = map + delta_tsurf\n",
    "    values = - map\n",
    "    values += (delta_tsurf * 0.38)\n",
    "    above = compute_area_hectares(values < 0, d_sl[key])\n",
    "    tot = compute_area_hectares(~np.isnan(values), d_sl[key])\n",
    "    total += tot \n",
    "    total_above += above\n",
    "    print(key, above/1000000, tot/1000000, (above/tot)*100)\n",
    "    d_above_2050_accl[key] = above/1000000\n",
    "print(\"total\", total_above/1000000, total/1000000, (total_above/total)*100)\n",
    "\n",
    "# Taking acclimation into account\n",
    "# south_east_asia 32.350550249746746 435.3273248737554 7.4313162536094834\n",
    "# south_america 156.09765632641614 773.1328331874156 20.190276447433764\n",
    "# africa 10.338918335156082 182.49401550897488 5.66534650811474\n",
    "# total 198.78712491131895 1390.954173570146 14.291421578691867\n"
   ]
  },
  {
   "cell_type": "code",
   "execution_count": 6,
   "metadata": {},
   "outputs": [
    {
     "name": "stdout",
     "output_type": "stream",
     "text": [
      "total 198.83927768301731 1391.3255988159804 14.291354795184516\n"
     ]
    }
   ],
   "source": [
    "print(\"total\", total_above/1000000, total/1000000, (total_above/total)*100)\n",
    "# total 198.78712491131895 1390.954173570146 14.291421578691867"
   ]
  },
  {
   "cell_type": "code",
   "execution_count": 7,
   "metadata": {},
   "outputs": [
    {
     "name": "stdout",
     "output_type": "stream",
     "text": [
      "south_east_asia 74.72581862566749 435.6991774744847 17.150782578661982\n",
      "south_america 261.03649542877184 773.1324058325209 33.76349166837518\n",
      "africa 20.397343383213258 182.49401550897488 11.176993024305576\n",
      "total 356.1596574376526 1391.3255988159804 25.598584381739602\n"
     ]
    }
   ],
   "source": [
    "# fixed distribution 2100\n",
    "ssp = '2071_2100_ssp370'\n",
    "total = 0\n",
    "total_above = 0\n",
    "d_above_2100 = {}\n",
    "for key, sl in list(d_sl.items()):\n",
    "    ext = key\n",
    "    sl = d_sl[key]\n",
    "    \n",
    "    y = '2100'\n",
    "    filename_delta = DATA_PATH + f\"/2050-2100_temperatures/delta_tsurf_2020_{y}.tif\"\n",
    "    delta_tsurf = rio.open(filename_delta, 'r').read(1)[sl]\n",
    "    delta_tsurf[delta_tsurf==-20] = np.nan\n",
    "    delta_tsurf[~data_both_biomes[sl]] = np.nan\n",
    "\n",
    "\n",
    "    outfile = outfile = DATA_PATH + f\"/outputs/delta_Tmin_Tmodis{ext}_per_year_2001_2020_reversed{version}.npy\"\n",
    "    map = np.load(outfile)\n",
    "    map = map.astype(float)[..., -1] # 2020\n",
    "    map[~data_both_biomes[sl]] = np.nan\n",
    "    map = map + delta_tsurf\n",
    "    values = - map\n",
    "    above = compute_area_hectares(values < 0, d_sl[key])\n",
    "    tot = compute_area_hectares(~np.isnan(values), d_sl[key])\n",
    "    total += tot \n",
    "    total_above += above\n",
    "    print(key, above/1000000, tot/1000000, (above/tot)*100)\n",
    "    d_above_2100[key] = above/1000000\n",
    "print(\"total\", total_above/1000000, total/1000000, (total_above/total)*100)\n",
    "\n",
    "# south_east_asia 74.52581014518758 435.3273248737554 17.11948823033335\n",
    "# south_america 261.04738393011564 773.1328331874156 33.76488136636088\n",
    "# africa 20.397343383213258 182.49401550897488 11.176993024305576\n",
    "# total 355.9705374585165 1390.954173570146 25.591823528222434"
   ]
  },
  {
   "cell_type": "code",
   "execution_count": 8,
   "metadata": {},
   "outputs": [
    {
     "name": "stdout",
     "output_type": "stream",
     "text": [
      "Taking acclimation into account\n",
      "south_east_asia 50.89472343304961 435.6991774744847 11.681161237911699\n",
      "south_america 197.28466721456593 773.1324058325209 25.517578325038226\n",
      "africa 14.945170925439978 182.49401550897488 8.18940329838103\n",
      "total 263.12456157305553 1391.3255988159804 18.911789001580566\n"
     ]
    }
   ],
   "source": [
    "# fixed distribution 2100\n",
    "ssp = '2071_2100_ssp370'\n",
    "total = 0\n",
    "total_above = 0\n",
    "d_above_2100_accl = {}\n",
    "print(\"Taking acclimation into account\")\n",
    "for key, sl in list(d_sl.items()):\n",
    "    ext = key\n",
    "    sl = d_sl[key]\n",
    "    \n",
    "    y = '2100'\n",
    "    filename_delta = DATA_PATH + f\"/2050-2100_temperatures/delta_tsurf_2020_{y}.tif\"\n",
    "    delta_tsurf = rio.open(filename_delta, 'r').read(1)[sl]\n",
    "    delta_tsurf[delta_tsurf==-20] = np.nan\n",
    "    delta_tsurf[~data_both_biomes[sl]] = np.nan\n",
    "\n",
    "\n",
    "    outfile = outfile = DATA_PATH + f\"/outputs/delta_Tmin_Tmodis{ext}_per_year_2001_2020_reversed{version}.npy\"\n",
    "    map = np.load(outfile)\n",
    "    map = map.astype(float)[..., -1] # 2020\n",
    "    map[~data_both_biomes[sl]] = np.nan\n",
    "    map = map + delta_tsurf\n",
    "    values = - map\n",
    "    values += (delta_tsurf * 0.38)\n",
    "    above = compute_area_hectares(values < 0, d_sl[key])\n",
    "    tot = compute_area_hectares(~np.isnan(values), d_sl[key])\n",
    "    total += tot \n",
    "    total_above += above\n",
    "    print(key, above/1000000, tot/1000000, (above/tot)*100)\n",
    "    d_above_2100_accl[key] = above/1000000\n",
    "print(\"total\", total_above/1000000, total/1000000, (total_above/total)*100)\n",
    "\n",
    "# Taking acclimation into account\n",
    "# south_east_asia 50.79094202461453 435.3273248737554 11.667299322261442\n",
    "# south_america 197.2940723631662 773.1328331874156 25.51878071841505\n",
    "# africa 14.945170925439978 182.49401550897488 8.18940329838103\n",
    "# total 263.0301853132207 1390.954173570146 18.910053998263955"
   ]
  },
  {
   "cell_type": "code",
   "execution_count": 9,
   "metadata": {},
   "outputs": [
    {
     "name": "stdout",
     "output_type": "stream",
     "text": [
      "south_east_asia 8.94116629570248 47.56743583002756\n",
      "south_east_asia 5.251941352098129 23.73634063740969\n",
      "south_america 30.260750925749676 122.927191180992\n",
      "south_america 17.98073095234335 59.17536296678608\n",
      "africa 2.4041628249080222 11.501515787987517\n",
      "africa 1.4430907399303408 6.049343330214237\n"
     ]
    }
   ],
   "source": [
    "for key in d_sl.keys():\n",
    "    print(key, d_above_2050[key]- d_above_2020[key], d_above_2100[key] - d_above_2020[key])\n",
    "    print(key, d_above_2050_accl[key]- d_above_2020[key], d_above_2100_accl[key] - d_above_2020[key])\n",
    "    \n",
    "# south_east_asia 8.9177658782544 47.41442252553013\n",
    "# south_america 30.263001087274205 122.93223792293529\n",
    "# africa 2.4041628249080222 11.501515787987517"
   ]
  },
  {
   "cell_type": "code",
   "execution_count": 10,
   "metadata": {},
   "outputs": [
    {
     "name": "stdout",
     "output_type": "stream",
     "text": [
      "40.01 44.245\n",
      "31.05 nan\n",
      "41.58 nan\n"
     ]
    },
    {
     "name": "stderr",
     "output_type": "stream",
     "text": [
      "/tmp/ipykernel_649357/472777037.py:10: RuntimeWarning: All-NaN slice encountered\n",
      "  print(np.nanmin(Tmin[sl]), np.nanmax(Tmax[sl]))\n"
     ]
    }
   ],
   "source": [
    "# Tcrit min et max\n",
    "Tmin = rio.open(DATA_PATH + f\"outputs/Tcrit_map_min_1981_2010{version}.tif\", 'r').read(1)\n",
    "Tmin[Tmin==1000] = np.nan\n",
    "Tmin[Tmin==0] = np.nan\n",
    "Tmax = rio.open(DATA_PATH + f\"outputs/Tcrit_map_max_1981_2010{version}.tif\", 'r').read(1)\n",
    "Tmax[Tmax==0] = np.nan\n",
    "Tmin[~data_both_biomes] = np.nan\n",
    "Tmax[~data_both_biomes] = np.nan\n",
    "for key, sl in d_sl.items():\n",
    "    print(np.nanmin(Tmin[sl]), np.nanmax(Tmax[sl]))\n",
    "    # print(np.nanmin(Tmax[sl]), )\n",
    "    \n",
    "# 40.01 49.7\n",
    "# 31.05 54.9583636836448\n",
    "# 41.58 53.618001241091626"
   ]
  },
  {
   "cell_type": "code",
   "execution_count": 11,
   "metadata": {},
   "outputs": [
    {
     "name": "stdout",
     "output_type": "stream",
     "text": [
      "south_east_asia -0.01928791648707466\n",
      "south_america -0.047514517249509974\n",
      "africa -0.03325496459614932\n",
      "-0.03668881877277814\n"
     ]
    }
   ],
   "source": [
    "a= []\n",
    "for ext, sl in d_sl.items():\n",
    "    lr_outfile = f\"/data/gaston/ecostress/ecostress/outputs/LinearRegression_delta_Tmin_Tmodis{ext}_per_year_2001_2020{version}.npy\"\n",
    "    lr_map = - np.load(lr_outfile)\n",
    "    lr_map[~data_both_biomes[sl]] = np.nan\n",
    "    a.append(lr_map[~np.isnan(lr_map)].flatten())\n",
    "    print(ext, np.nanmean(lr_map))\n",
    "print(np.nanmean(np.concatenate(a)))\n",
    "\n",
    "# south_east_asia -0.01927870443704044\n",
    "# south_america -0.0475145019220043\n",
    "# africa -0.03325496459614932\n",
    "# -0.03669079717015983"
   ]
  },
  {
   "cell_type": "code",
   "execution_count": 12,
   "metadata": {},
   "outputs": [
    {
     "name": "stdout",
     "output_type": "stream",
     "text": [
      "south_east_asia 46.45001197814941\n",
      "south_america 48.79000831604004\n",
      "africa 49.089996334910396\n",
      "-7.560003757476807\n",
      "-5.170007228851318\n"
     ]
    }
   ],
   "source": [
    "a= []\n",
    "for ext, sl in d_sl.items():\n",
    "    outfile = DATA_PATH + f\"/outputs/delta_Tmin_Tmodis{ext}_per_year_2001_2020_reversed{version}.npy\"\n",
    "    map = np.load(outfile)\n",
    "    map[~data_both_biomes[sl]] = np.nan\n",
    "    a.append(map[~np.isnan(map)].flatten())\n",
    "    map = (map[...,0] + Tmin[sl])\n",
    "    print(ext, np.nanpercentile(map,99)) \n",
    "print(np.nanquantile(np.concatenate(a), 0.6))\n",
    "print(np.nanquantile(np.concatenate(a), 0.75))\n",
    "\n",
    "# 46.42999244689941\n",
    "# 48.79000831604004\n",
    "# 49.089996334910396\n",
    "# -7.569994926452637\n",
    "# -5.179996490478516"
   ]
  },
  {
   "cell_type": "code",
   "execution_count": 13,
   "metadata": {},
   "outputs": [
    {
     "name": "stdout",
     "output_type": "stream",
     "text": [
      "south_east_asia 163.116626401837 435.69943244637034 37.4378790181038\n",
      "south_america 187.6968413446885 773.1337376042538 24.27740922628905\n",
      "africa 57.387100549917044 182.49401550897488 31.446017772070338\n"
     ]
    }
   ],
   "source": [
    "total = 0\n",
    "total_above = 0\n",
    "for ext, sl in d_sl.items():\n",
    "    key = ext\n",
    "    lr_outfile = f\"/data/gaston/ecostress/ecostress/outputs/LinearRegression_delta_Tmin_Tmodis{ext}_per_year_2001_2020{version}.npy\"\n",
    "    lr_map = - np.load(lr_outfile)\n",
    "    lr_map[~data_both_biomes[sl]] = np.nan\n",
    "    above = compute_area_hectares(lr_map >= 0, d_sl[key])\n",
    "    tot = compute_area_hectares(~np.isnan(lr_map), d_sl[key])\n",
    "    total += tot \n",
    "    total_above += above\n",
    "    print(key, above/1000000, tot/1000000, (above/tot)*100)\n",
    "    \n",
    "# south_east_asia 163.00445912990077 435.3275798456408 37.44409191526509\n",
    "# south_america 187.6968413446885 773.1341649591459 24.27739580679465\n",
    "# africa 57.387100549917044 182.49401550897488 31.446017772070338"
   ]
  },
  {
   "cell_type": "code",
   "execution_count": 14,
   "metadata": {},
   "outputs": [
    {
     "name": "stdout",
     "output_type": "stream",
     "text": [
      "south_east_asia (5018, 9999)\n",
      "south_america (7104, 9122)\n",
      "africa (4497, 7693)\n"
     ]
    }
   ],
   "source": [
    "for ext, sl in d_sl.items():\n",
    "    print(ext, data_both_biomes[sl].shape)\n",
    "    \n",
    "# south_east_asia (5018, 9999)\n",
    "# south_america (7104, 9122)\n",
    "# africa (4497, 7693)"
   ]
  },
  {
   "attachments": {},
   "cell_type": "markdown",
   "metadata": {},
   "source": [
    "## Tair evolution"
   ]
  },
  {
   "cell_type": "code",
   "execution_count": 3,
   "metadata": {},
   "outputs": [
    {
     "name": "stdout",
     "output_type": "stream",
     "text": [
      "south_east_asia Tair with TSM up: 0.012557318211087642 Tair with TSM down 0.0226008458786825 TSM with TSM up: 0.05838004112725992 TSM with TSM down -0.06637177072530198\n",
      "south_america Tair with TSM up: 0.03839570853311328 Tair with TSM down 0.06540381765694055 TSM with TSM up: 0.04024279103561395 TSM with TSM down -0.07572397308820976\n",
      "africa Tair with TSM up: 0.04306477099559266 Tair with TSM down 0.051144659033577504 TSM with TSM up: 0.05378082312177608 TSM with TSM down -0.0729809795947593\n",
      "0.028512579676834904 0.051578557115092315\n"
     ]
    }
   ],
   "source": [
    "total = 0\n",
    "total_above = 0\n",
    "total_neg = np.array([])\n",
    "total_pos = np.array([])\n",
    "for ext, sl in d_sl.items():\n",
    "    key = ext\n",
    "    lr_outfile = DATA_PATH + f\"/outputs/LinearRegression_delta_Tmin_Tmodis{ext}_per_year_2001_2020{version}.npy\"\n",
    "    lr_map = - np.load(lr_outfile)\n",
    "    lr_map[~data_both_biomes[sl]] = np.nan\n",
    "    lr_tair_outfile = DATA_PATH + f\"/outputs/LinearRegression_Tair{ext}_per_year_2001_2020_{version}.npy\"\n",
    "    lr_tair_map = np.load(lr_tair_outfile)\n",
    "    total_pos = np.concatenate([total_pos, lr_tair_map[lr_map > 0]])\n",
    "    total_neg = np.concatenate([total_neg, lr_tair_map[lr_map < 0]])\n",
    "    print(key, \"Tair with TSM up:\", np.nanmean(lr_tair_map[lr_map >= 0]), \"Tair with TSM down\", np.nanmean(lr_tair_map[lr_map < 0]), \"TSM with TSM up:\", np.nanmean(lr_map[lr_map >= 0]), \"TSM with TSM down\", np.nanmean(lr_map[lr_map < 0]))\n",
    "    \n",
    "print(np.nanmean(total_pos), np.nanmean(total_neg))\n",
    "\n",
    "# south_east_asia Tair with TSM up: 0.012552211603656195 Tair with TSM down 0.022591978758514267 TSM with TSM up: 0.05837295455580159 TSM with TSM down -0.06636507397318372\n",
    "# south_america Tair with TSM up: 0.03839570853311328 Tair with TSM down 0.0654038379299129 TSM with TSM up: 0.04024279103568656 TSM with TSM down -0.07572393262402081\n",
    "# africa Tair with TSM up: 0.04306477099559266 Tair with TSM down 0.051144659033577504 TSM with TSM up: 0.05378082312177608 TSM with TSM down -0.0729809795947593\n",
    "# 0.028515201184681857 0.051584120402371224"
   ]
  }
 ],
 "metadata": {
  "kernelspec": {
   "display_name": "gaston",
   "language": "python",
   "name": "python3"
  },
  "language_info": {
   "codemirror_mode": {
    "name": "ipython",
    "version": 3
   },
   "file_extension": ".py",
   "mimetype": "text/x-python",
   "name": "python",
   "nbconvert_exporter": "python",
   "pygments_lexer": "ipython3",
   "version": "3.11.5"
  },
  "orig_nbformat": 4
 },
 "nbformat": 4,
 "nbformat_minor": 2
}
